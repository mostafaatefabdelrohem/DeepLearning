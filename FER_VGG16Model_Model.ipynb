{
  "cells": [
    {
      "cell_type": "markdown",
      "metadata": {
        "id": "view-in-github",
        "colab_type": "text"
      },
      "source": [
        "<a href=\"https://colab.research.google.com/github/mostafaatefabdelrohem/DeepLearning/blob/main/FER_VGG16Model_Model.ipynb\" target=\"_parent\"><img src=\"https://colab.research.google.com/assets/colab-badge.svg\" alt=\"Open In Colab\"/></a>"
      ]
    },
    {
      "cell_type": "code",
      "execution_count": null,
      "metadata": {
        "id": "lBVjx6MjXl7O"
      },
      "outputs": [],
      "source": [
        "import os\n",
        "import keras\n",
        "import numpy as np\n",
        "import pandas as pd\n",
        "import matplotlib.pyplot as plt\n",
        "import tensorflow as tf\n",
        "from keras.preprocessing import image\n",
        "from keras_preprocessing.image import ImageDataGenerator,load_img\n",
        "from keras.models import Model, Sequential\n",
        "from keras.applications import VGG16\n",
        "from keras.layers import Dense, Flatten, Dropout,BatchNormalization ,Activation, GlobalAveragePooling2D\n",
        "from keras.layers import GaussianNoise\n",
        "from keras.optimizers import Adam\n",
        "from keras.callbacks import ReduceLROnPlateau,ModelCheckpoint,EarlyStopping\n",
        "from IPython.display import Image, HTML\n",
        "from keras.utils import plot_model"
      ]
    },
    {
      "cell_type": "code",
      "execution_count": null,
      "metadata": {
        "colab": {
          "base_uri": "https://localhost:8080/"
        },
        "id": "P-QHviU9XmkG",
        "outputId": "63a92556-359f-468b-cdbd-01f638d82d73"
      },
      "outputs": [
        {
          "output_type": "stream",
          "name": "stdout",
          "text": [
            "Mounted at /content/drive\n"
          ]
        }
      ],
      "source": [
        "from google.colab import drive\n",
        "drive.mount('/content/drive')"
      ]
    },
    {
      "cell_type": "code",
      "execution_count": null,
      "metadata": {
        "id": "e-GRONTxX17w"
      },
      "outputs": [],
      "source": [
        "# declare path\n",
        "train_dir = '/content/drive/MyDrive/face_emotions/train/'\n",
        "test_dir = '/content/drive/MyDrive/face_emotions/test/'\n",
        "\n",
        "# Image size\n",
        "\n",
        "IMAGE_SIZE = (48,48)\n",
        "IMAGE_SHAPE = IMAGE_SIZE + (3,)\n",
        "\n",
        "batch_size = 32\n",
        "EPOCHS = 50\n",
        "ADAM_LEARNING_RATE = 0.0001\n",
        "PATIENCE =10\n",
        "classes=['Angry','Disgust','Fear','Happy','Neutral','Sad','Surprise']\n"
      ]
    },
    {
      "cell_type": "code",
      "execution_count": null,
      "metadata": {
        "id": "sqb6JkkxX6a3"
      },
      "outputs": [],
      "source": [
        "# Data augmentation\n",
        "\n",
        "train_datagen = ImageDataGenerator(rescale = 1./255,\n",
        "                                   featurewise_center=False,\n",
        "                                   featurewise_std_normalization=False,\n",
        "                                   rotation_range=10,\n",
        "                                   width_shift_range=0.1,\n",
        "                                   height_shift_range=0.1,\n",
        "                                   zoom_range=0.1,\n",
        "                                   horizontal_flip=True)\n",
        "\n",
        "test_datagen  = ImageDataGenerator(rescale = 1./255)"
      ]
    },
    {
      "cell_type": "code",
      "execution_count": null,
      "metadata": {
        "colab": {
          "base_uri": "https://localhost:8080/"
        },
        "id": "_2poyOU0X8YX",
        "outputId": "888bbf4f-1d2c-4c87-fa12-4476a5caf29b"
      },
      "outputs": [
        {
          "output_type": "stream",
          "name": "stdout",
          "text": [
            "Found 28709 images belonging to 7 classes.\n",
            "Found 7178 images belonging to 7 classes.\n"
          ]
        }
      ],
      "source": [
        "# Load datasat\n",
        "\n",
        "train_dataset  = train_datagen.flow_from_directory(directory = train_dir,\n",
        "                                                   target_size = IMAGE_SIZE,\n",
        "                                                   class_mode = 'categorical',\n",
        "                                                   batch_size = batch_size)\n",
        "\n",
        "test_dataset = test_datagen.flow_from_directory(directory = test_dir,\n",
        "                                                  target_size = IMAGE_SIZE,\n",
        "                                                  class_mode = 'categorical',\n",
        "                                                  shuffle =True,\n",
        "                                                  batch_size = batch_size)"
      ]
    },
    {
      "cell_type": "code",
      "execution_count": null,
      "metadata": {
        "colab": {
          "base_uri": "https://localhost:8080/",
          "height": 112
        },
        "id": "dluAHRarX9lH",
        "outputId": "9d40dd2c-e027-4623-bcc0-53ab7e50afa6"
      },
      "outputs": [
        {
          "output_type": "execute_result",
          "data": {
            "text/plain": [
              "<IPython.core.display.HTML object>"
            ],
            "text/html": [
              "<table border=\"1\" class=\"dataframe\">\n",
              "  <thead>\n",
              "    <tr style=\"text-align: right;\">\n",
              "      <th></th>\n",
              "      <th>angry</th>\n",
              "      <th>happy</th>\n",
              "      <th>sad</th>\n",
              "      <th>neutral</th>\n",
              "      <th>surprise</th>\n",
              "      <th>fear</th>\n",
              "      <th>disgust</th>\n",
              "    </tr>\n",
              "  </thead>\n",
              "  <tbody>\n",
              "    <tr>\n",
              "      <th>train</th>\n",
              "      <td>3995</td>\n",
              "      <td>7215</td>\n",
              "      <td>4830</td>\n",
              "      <td>4965</td>\n",
              "      <td>3171</td>\n",
              "      <td>4097</td>\n",
              "      <td>436</td>\n",
              "    </tr>\n",
              "    <tr>\n",
              "      <th>test</th>\n",
              "      <td>958</td>\n",
              "      <td>1774</td>\n",
              "      <td>1247</td>\n",
              "      <td>1233</td>\n",
              "      <td>831</td>\n",
              "      <td>1024</td>\n",
              "      <td>111</td>\n",
              "    </tr>\n",
              "  </tbody>\n",
              "</table>"
            ]
          },
          "metadata": {},
          "execution_count": 6
        }
      ],
      "source": [
        "# Total train/test sample\n",
        "\n",
        "def count_exp(path, set_):\n",
        "    dict_ = {}\n",
        "    for expression in os.listdir(path):\n",
        "        dir_ = path + expression\n",
        "        dict_[expression] = len(os.listdir(dir_))\n",
        "    df = pd.DataFrame(dict_, index=[set_])\n",
        "    return df\n",
        "train_count = count_exp(train_dir, 'train')\n",
        "test_count = count_exp(test_dir, 'test')\n",
        "\n",
        "HTML(train_count.append(test_count).to_html(escape=False))\n"
      ]
    },
    {
      "cell_type": "code",
      "execution_count": null,
      "metadata": {
        "colab": {
          "base_uri": "https://localhost:8080/"
        },
        "id": "Ek6-kLsjX_ht",
        "outputId": "d9558c34-3b23-4a46-8ba7-76de94a65cd6"
      },
      "outputs": [
        {
          "output_type": "execute_result",
          "data": {
            "text/plain": [
              "{'angry': 0,\n",
              " 'disgust': 1,\n",
              " 'fear': 2,\n",
              " 'happy': 3,\n",
              " 'neutral': 4,\n",
              " 'sad': 5,\n",
              " 'surprise': 6}"
            ]
          },
          "metadata": {},
          "execution_count": 7
        }
      ],
      "source": [
        "# Data labels\n",
        "\n",
        "class_labels = test_dataset.class_indices\n",
        "class_labels"
      ]
    },
    {
      "cell_type": "code",
      "execution_count": null,
      "metadata": {
        "colab": {
          "base_uri": "https://localhost:8080/"
        },
        "id": "IWKpv7uIYCjr",
        "outputId": "3efb0064-2fc5-49d0-a659-50bdaf0218d0"
      },
      "outputs": [
        {
          "output_type": "stream",
          "name": "stdout",
          "text": [
            "(32, 48, 48, 3)\n"
          ]
        }
      ],
      "source": [
        "# See the shape of any data\n",
        "\n",
        "train_sample=next(train_dataset)\n",
        "print(train_sample[0].shape)"
      ]
    },
    {
      "cell_type": "code",
      "execution_count": null,
      "metadata": {
        "colab": {
          "base_uri": "https://localhost:8080/",
          "height": 407
        },
        "id": "x2BwO44aYRbt",
        "outputId": "0bd568ae-e44d-46c8-8b6f-d77fd97bcf16"
      },
      "outputs": [
        {
          "output_type": "display_data",
          "data": {
            "text/plain": [
              "<Figure size 864x504 with 1 Axes>"
            ],
            "image/png": "[encoded data removed]"
          },
          "metadata": {
            "needs_background": "light"
          }
        }
      ],
      "source": [
        "# # lot distribution of train/test dataste per class\n",
        "\n",
        "x = list(test_count.columns)\n",
        "y1 =train_count.iloc[0].to_list()\n",
        "y2 = test_count.iloc[0].to_list()\n",
        "plt.figure(figsize=(12,7))\n",
        "\n",
        "plt.bar(x, y1, color='grey')\n",
        "plt.bar(x, y2, bottom=y1, color='black')\n",
        "plt.xlabel(\"Emotions\")\n",
        "plt.ylabel(\"Train & Test data\")\n",
        "plt.legend([\"Train\", \"Test\"], loc='upper left')\n",
        "plt.title(\"Data\")\n",
        "plt.savefig('distribution.png')\n",
        "plt.show()"
      ]
    },
    {
      "cell_type": "code",
      "execution_count": null,
      "metadata": {
        "colab": {
          "base_uri": "https://localhost:8080/",
          "height": 118
        },
        "id": "3tQiTkplYSv-",
        "outputId": "181c97af-057d-442a-b601-94b24d2f7067"
      },
      "outputs": [
        {
          "output_type": "display_data",
          "data": {
            "text/plain": [
              "<Figure size 1008x1584 with 7 Axes>"
            ],
            "image/png": "[encoded data removed]"
          },
          "metadata": {
            "needs_background": "light"
          }
        }
      ],
      "source": [
        "# Plot image of each class\n",
        "\n",
        "plt.figure(figsize=(14,22))\n",
        "i = 1\n",
        "for expression in os.listdir(train_dir):\n",
        "    img = load_img((train_dir + expression +'/'+ os.listdir(train_dir + expression)[1]))\n",
        "    plt.subplot(1,7,i)\n",
        "    plt.imshow(img)\n",
        "    plt.title(expression)\n",
        "    plt.axis('off')\n",
        "    i += 1\n",
        "plt.show()"
      ]
    },
    {
      "cell_type": "code",
      "execution_count": null,
      "metadata": {
        "colab": {
          "base_uri": "https://localhost:8080/"
        },
        "id": "XzjoPQ5WYVIY",
        "outputId": "d18db1dc-db7b-473a-a1b3-4d9447cc2639"
      },
      "outputs": [
        {
          "output_type": "stream",
          "name": "stdout",
          "text": [
            "Downloading data from https://storage.googleapis.com/tensorflow/keras-applications/vgg16/vgg16_weights_tf_dim_ordering_tf_kernels_notop.h5\n",
            "58889256/58889256 [==============================] - 1s 0us/step\n",
            "Model: \"vgg16\"\n",
            "_________________________________________________________________\n",
            " Layer (type)                Output Shape              Param #   \n",
            "=================================================================\n",
            " input_1 (InputLayer)        [(None, 48, 48, 3)]       0         \n",
            "                                                                 \n",
            " block1_conv1 (Conv2D)       (None, 48, 48, 64)        1792      \n",
            "                                                                 \n",
            " block1_conv2 (Conv2D)       (None, 48, 48, 64)        36928     \n",
            "                                                                 \n",
            " block1_pool (MaxPooling2D)  (None, 24, 24, 64)        0         \n",
            "                                                                 \n",
            " block2_conv1 (Conv2D)       (None, 24, 24, 128)       73856     \n",
            "                                                                 \n",
            " block2_conv2 (Conv2D)       (None, 24, 24, 128)       147584    \n",
            "                                                                 \n",
            " block2_pool (MaxPooling2D)  (None, 12, 12, 128)       0         \n",
            "                                                                 \n",
            " block3_conv1 (Conv2D)       (None, 12, 12, 256)       295168    \n",
            "                                                                 \n",
            " block3_conv2 (Conv2D)       (None, 12, 12, 256)       590080    \n",
            "                                                                 \n",
            " block3_conv3 (Conv2D)       (None, 12, 12, 256)       590080    \n",
            "                                                                 \n",
            " block3_pool (MaxPooling2D)  (None, 6, 6, 256)         0         \n",
            "                                                                 \n",
            " block4_conv1 (Conv2D)       (None, 6, 6, 512)         1180160   \n",
            "                                                                 \n",
            " block4_conv2 (Conv2D)       (None, 6, 6, 512)         2359808   \n",
            "                                                                 \n",
            " block4_conv3 (Conv2D)       (None, 6, 6, 512)         2359808   \n",
            "                                                                 \n",
            " block4_pool (MaxPooling2D)  (None, 3, 3, 512)         0         \n",
            "                                                                 \n",
            " block5_conv1 (Conv2D)       (None, 3, 3, 512)         2359808   \n",
            "                                                                 \n",
            " block5_conv2 (Conv2D)       (None, 3, 3, 512)         2359808   \n",
            "                                                                 \n",
            " block5_conv3 (Conv2D)       (None, 3, 3, 512)         2359808   \n",
            "                                                                 \n",
            " block5_pool (MaxPooling2D)  (None, 1, 1, 512)         0         \n",
            "                                                                 \n",
            "=================================================================\n",
            "Total params: 14,714,688\n",
            "Trainable params: 14,714,688\n",
            "Non-trainable params: 0\n",
            "_________________________________________________________________\n"
          ]
        }
      ],
      "source": [
        "# VGG16\n",
        "\n",
        "base_model = tf.keras.applications.VGG16(input_shape= IMAGE_SHAPE,include_top=False,weights=\"imagenet\")\n",
        "base_model.summary()"
      ]
    },
    {
      "cell_type": "code",
      "execution_count": null,
      "metadata": {
        "id": "XbHuhkHUYuN8"
      },
      "outputs": [],
      "source": [
        "for layer in base_model.layers[:11]:\n",
        "    layer.trainable=False"
      ]
    },
    {
      "cell_type": "code",
      "execution_count": null,
      "metadata": {
        "colab": {
          "base_uri": "https://localhost:8080/"
        },
        "id": "yZ7nie-rYwBF",
        "outputId": "d23894c1-2b2e-4a0f-f114-c6f88b278abb"
      },
      "outputs": [
        {
          "output_type": "stream",
          "name": "stdout",
          "text": [
            "Model: \"sequential\"\n",
            "_________________________________________________________________\n",
            " Layer (type)                Output Shape              Param #   \n",
            "=================================================================\n",
            " vgg16 (Functional)          (None, 1, 1, 512)         14714688  \n",
            "                                                                 \n",
            " batch_normalization (BatchN  (None, 1, 1, 512)        2048      \n",
            " ormalization)                                                   \n",
            "                                                                 \n",
            " gaussian_noise (GaussianNoi  (None, 1, 1, 512)        0         \n",
            " se)                                                             \n",
            "                                                                 \n",
            " global_average_pooling2d (G  (None, 512)              0         \n",
            " lobalAveragePooling2D)                                          \n",
            "                                                                 \n",
            " flatten (Flatten)           (None, 512)               0         \n",
            "                                                                 \n",
            " dense (Dense)               (None, 256)               131328    \n",
            "                                                                 \n",
            " batch_normalization_1 (Batc  (None, 256)              1024      \n",
            " hNormalization)                                                 \n",
            "                                                                 \n",
            " dropout (Dropout)           (None, 256)               0         \n",
            "                                                                 \n",
            " dense_1 (Dense)             (None, 128)               32896     \n",
            "                                                                 \n",
            " batch_normalization_2 (Batc  (None, 128)              512       \n",
            " hNormalization)                                                 \n",
            "                                                                 \n",
            " dropout_1 (Dropout)         (None, 128)               0         \n",
            "                                                                 \n",
            " dense_2 (Dense)             (None, 7)                 903       \n",
            "                                                                 \n",
            "=================================================================\n",
            "Total params: 14,883,399\n",
            "Trainable params: 13,146,119\n",
            "Non-trainable params: 1,737,280\n",
            "_________________________________________________________________\n"
          ]
        }
      ],
      "source": [
        "# Build transfer learning Model\n",
        "\n",
        "model=Sequential()\n",
        "model.add(base_model)\n",
        "model.add(BatchNormalization())\n",
        "model.add(GaussianNoise(0.01))\n",
        "model.add(GlobalAveragePooling2D())\n",
        "\n",
        "model.add(Flatten())\n",
        "model.add(Dense(256, activation='relu'))\n",
        "model.add(BatchNormalization())\n",
        "model.add(Dropout(0.5))\n",
        "\n",
        "model.add(Dense(128, activation='relu'))\n",
        "model.add(BatchNormalization())\n",
        "model.add(Dropout(0.5))\n",
        "\n",
        "model.add(Dense(7, activation=\"softmax\"))\n",
        "\n",
        "model.summary()"
      ]
    },
    {
      "cell_type": "code",
      "execution_count": null,
      "metadata": {
        "colab": {
          "base_uri": "https://localhost:8080/"
        },
        "id": "xI_6HKvQYxPx",
        "outputId": "09a12c93-b92f-4309-80fb-f42485124161"
      },
      "outputs": [
        {
          "output_type": "stream",
          "name": "stdout",
          "text": [
            "Model trainable 24\n"
          ]
        }
      ],
      "source": [
        "# Model trainable\n",
        "\n",
        "print(\"Model trainable\",len(model.trainable_variables))"
      ]
    },
    {
      "cell_type": "code",
      "execution_count": null,
      "metadata": {
        "id": "uYSV_NHmYz5Q"
      },
      "outputs": [],
      "source": [
        "# Compile model\n",
        "\n",
        "\n",
        "\n",
        "METRICS = [\n",
        "      tf.keras.metrics.BinaryAccuracy(name='accuracy')\n",
        "    \n",
        "]\n",
        "\n",
        "adam = tf.keras.optimizers.Adam(learning_rate=ADAM_LEARNING_RATE, beta_1=0.9, beta_2=0.999, epsilon=1e-08, decay=0.0)\n",
        "\n",
        "model.compile(optimizer=adam, loss='categorical_crossentropy',metrics=METRICS)"
      ]
    },
    {
      "cell_type": "code",
      "execution_count": null,
      "metadata": {
        "colab": {
          "base_uri": "https://localhost:8080/"
        },
        "id": "ApVf_EqfY05K",
        "outputId": "6cec6141-8a02-4c3b-ce44-9ed285d7b42f"
      },
      "outputs": [
        {
          "output_type": "stream",
          "name": "stdout",
          "text": [
            "Epoch 1/50\n",
            "898/898 [==============================] - 9114s 10s/step - loss: 2.3831 - accuracy: 0.8306 - val_loss: 2.8629 - val_accuracy: 0.8011 - lr: 1.0000e-04\n",
            "Epoch 2/50\n",
            "898/898 [==============================] - 101s 112ms/step - loss: 1.9342 - accuracy: 0.8509 - val_loss: 35.6673 - val_accuracy: 0.7474 - lr: 1.0000e-04\n",
            "Epoch 3/50\n",
            "898/898 [==============================] - 98s 109ms/step - loss: 1.7242 - accuracy: 0.8613 - val_loss: 1.9421 - val_accuracy: 0.8554 - lr: 1.0000e-04\n",
            "Epoch 4/50\n",
            "898/898 [==============================] - 99s 111ms/step - loss: 1.5746 - accuracy: 0.8691 - val_loss: 27.8127 - val_accuracy: 0.7850 - lr: 1.0000e-04\n",
            "Epoch 5/50\n",
            "898/898 [==============================] - 97s 108ms/step - loss: 1.5299 - accuracy: 0.8710 - val_loss: 1.5306 - val_accuracy: 0.8707 - lr: 1.0000e-04\n",
            "Epoch 6/50\n",
            "898/898 [==============================] - 98s 109ms/step - loss: 1.3875 - accuracy: 0.8791 - val_loss: 1.2549 - val_accuracy: 0.8860 - lr: 1.0000e-04\n",
            "Epoch 7/50\n",
            "898/898 [==============================] - 106s 118ms/step - loss: 1.3351 - accuracy: 0.8819 - val_loss: 1.4410 - val_accuracy: 0.8785 - lr: 1.0000e-04\n",
            "Epoch 8/50\n",
            "898/898 [==============================] - 97s 108ms/step - loss: 1.2890 - accuracy: 0.8844 - val_loss: 1.2301 - val_accuracy: 0.8858 - lr: 1.0000e-04\n",
            "Epoch 9/50\n",
            "898/898 [==============================] - 98s 109ms/step - loss: 1.2485 - accuracy: 0.8869 - val_loss: 1.1679 - val_accuracy: 0.8925 - lr: 1.0000e-04\n",
            "Epoch 10/50\n",
            "898/898 [==============================] - 99s 110ms/step - loss: 1.2038 - accuracy: 0.8903 - val_loss: 1.1307 - val_accuracy: 0.8948 - lr: 1.0000e-04\n",
            "Epoch 11/50\n",
            "898/898 [==============================] - 98s 109ms/step - loss: 1.1787 - accuracy: 0.8921 - val_loss: 1.1730 - val_accuracy: 0.8929 - lr: 1.0000e-04\n",
            "Epoch 12/50\n",
            "898/898 [==============================] - 99s 110ms/step - loss: 1.1470 - accuracy: 0.8940 - val_loss: 1.0796 - val_accuracy: 0.9006 - lr: 1.0000e-04\n",
            "Epoch 13/50\n",
            "898/898 [==============================] - 98s 109ms/step - loss: 1.1246 - accuracy: 0.8957 - val_loss: 1.1191 - val_accuracy: 0.8970 - lr: 1.0000e-04\n",
            "Epoch 14/50\n",
            "898/898 [==============================] - 100s 111ms/step - loss: 1.1078 - accuracy: 0.8976 - val_loss: 1.0897 - val_accuracy: 0.8982 - lr: 1.0000e-04\n",
            "Epoch 15/50\n",
            "898/898 [==============================] - 100s 112ms/step - loss: 1.0702 - accuracy: 0.8996 - val_loss: 1.0756 - val_accuracy: 0.8982 - lr: 1.0000e-04\n",
            "Epoch 16/50\n",
            "898/898 [==============================] - 99s 110ms/step - loss: 1.0516 - accuracy: 0.9023 - val_loss: 1.1096 - val_accuracy: 0.8960 - lr: 1.0000e-04\n",
            "Epoch 17/50\n",
            "898/898 [==============================] - 101s 112ms/step - loss: 1.0228 - accuracy: 0.9043 - val_loss: 1.0988 - val_accuracy: 0.8977 - lr: 1.0000e-04\n",
            "Epoch 18/50\n",
            "898/898 [==============================] - 99s 110ms/step - loss: 1.0001 - accuracy: 0.9061 - val_loss: 1.0630 - val_accuracy: 0.9013 - lr: 1.0000e-04\n",
            "Epoch 19/50\n",
            "898/898 [==============================] - 101s 113ms/step - loss: 0.9755 - accuracy: 0.9086 - val_loss: 1.0788 - val_accuracy: 0.9005 - lr: 1.0000e-04\n",
            "Epoch 20/50\n",
            "898/898 [==============================] - 100s 112ms/step - loss: 0.9438 - accuracy: 0.9116 - val_loss: 1.0983 - val_accuracy: 0.8988 - lr: 1.0000e-04\n",
            "Epoch 21/50\n",
            "898/898 [==============================] - 99s 110ms/step - loss: 0.9194 - accuracy: 0.9137 - val_loss: 1.1020 - val_accuracy: 0.9001 - lr: 1.0000e-04\n",
            "Epoch 22/50\n",
            "898/898 [==============================] - 101s 113ms/step - loss: 0.9059 - accuracy: 0.9152 - val_loss: 1.0683 - val_accuracy: 0.9023 - lr: 1.0000e-04\n",
            "Epoch 23/50\n",
            "898/898 [==============================] - 100s 112ms/step - loss: 0.8635 - accuracy: 0.9183 - val_loss: 1.1029 - val_accuracy: 0.9009 - lr: 1.0000e-04\n",
            "Epoch 24/50\n",
            "898/898 [==============================] - 99s 110ms/step - loss: 0.8381 - accuracy: 0.9218 - val_loss: 1.1166 - val_accuracy: 0.9012 - lr: 1.0000e-04\n",
            "Epoch 25/50\n",
            "898/898 [==============================] - 100s 112ms/step - loss: 0.8022 - accuracy: 0.9250 - val_loss: 1.0464 - val_accuracy: 0.9049 - lr: 1.0000e-04\n",
            "Epoch 26/50\n",
            "898/898 [==============================] - 101s 112ms/step - loss: 0.7878 - accuracy: 0.9262 - val_loss: 1.0669 - val_accuracy: 0.9030 - lr: 1.0000e-04\n",
            "Epoch 27/50\n",
            "898/898 [==============================] - 98s 109ms/step - loss: 0.7619 - accuracy: 0.9291 - val_loss: 1.0517 - val_accuracy: 0.9063 - lr: 1.0000e-04\n",
            "Epoch 28/50\n",
            "898/898 [==============================] - 102s 113ms/step - loss: 0.7339 - accuracy: 0.9315 - val_loss: 1.0896 - val_accuracy: 0.9032 - lr: 1.0000e-04\n",
            "Epoch 29/50\n",
            "898/898 [==============================] - 99s 110ms/step - loss: 0.7138 - accuracy: 0.9337 - val_loss: 1.0845 - val_accuracy: 0.9040 - lr: 1.0000e-04\n",
            "Epoch 30/50\n",
            "898/898 [==============================] - 102s 114ms/step - loss: 0.6917 - accuracy: 0.9352 - val_loss: 1.1163 - val_accuracy: 0.9015 - lr: 1.0000e-04\n",
            "Epoch 31/50\n",
            "898/898 [==============================] - 101s 112ms/step - loss: 0.6726 - accuracy: 0.9374 - val_loss: 1.0998 - val_accuracy: 0.9042 - lr: 1.0000e-04\n",
            "Epoch 32/50\n",
            "898/898 [==============================] - 102s 114ms/step - loss: 0.6355 - accuracy: 0.9410 - val_loss: 1.1513 - val_accuracy: 0.9030 - lr: 1.0000e-04\n",
            "Epoch 33/50\n",
            "898/898 [==============================] - 101s 113ms/step - loss: 0.6186 - accuracy: 0.9431 - val_loss: 1.1195 - val_accuracy: 0.9057 - lr: 1.0000e-04\n",
            "Epoch 34/50\n",
            "898/898 [==============================] - 103s 115ms/step - loss: 0.5988 - accuracy: 0.9440 - val_loss: 1.1190 - val_accuracy: 0.9053 - lr: 1.0000e-04\n",
            "Epoch 35/50\n",
            "898/898 [==============================] - ETA: 0s - loss: 0.5687 - accuracy: 0.9474\n",
            "Epoch 35: ReduceLROnPlateau reducing learning rate to 4.999999873689376e-05.\n",
            "898/898 [==============================] - 100s 111ms/step - loss: 0.5687 - accuracy: 0.9474 - val_loss: 1.1656 - val_accuracy: 0.9036 - lr: 1.0000e-04\n",
            "Epoch 36/50\n",
            "898/898 [==============================] - 103s 114ms/step - loss: 0.4748 - accuracy: 0.9572 - val_loss: 1.1821 - val_accuracy: 0.9034 - lr: 5.0000e-05\n",
            "Epoch 37/50\n",
            "898/898 [==============================] - 100s 112ms/step - loss: 0.4469 - accuracy: 0.9595 - val_loss: 1.2378 - val_accuracy: 0.9029 - lr: 5.0000e-05\n",
            "Epoch 38/50\n",
            "898/898 [==============================] - 100s 112ms/step - loss: 0.4288 - accuracy: 0.9612 - val_loss: 1.1977 - val_accuracy: 0.9044 - lr: 5.0000e-05\n",
            "Epoch 39/50\n",
            "898/898 [==============================] - 99s 110ms/step - loss: 0.4037 - accuracy: 0.9634 - val_loss: 1.2490 - val_accuracy: 0.9047 - lr: 5.0000e-05\n",
            "Epoch 40/50\n",
            "898/898 [==============================] - 98s 109ms/step - loss: 0.3950 - accuracy: 0.9646 - val_loss: 1.2616 - val_accuracy: 0.9039 - lr: 5.0000e-05\n",
            "Epoch 41/50\n",
            "898/898 [==============================] - 100s 112ms/step - loss: 0.3754 - accuracy: 0.9661 - val_loss: 1.2695 - val_accuracy: 0.9029 - lr: 5.0000e-05\n",
            "Epoch 42/50\n",
            "898/898 [==============================] - 98s 109ms/step - loss: 0.3689 - accuracy: 0.9667 - val_loss: 1.2724 - val_accuracy: 0.9047 - lr: 5.0000e-05\n",
            "Epoch 43/50\n",
            "898/898 [==============================] - 101s 112ms/step - loss: 0.3507 - accuracy: 0.9678 - val_loss: 1.2856 - val_accuracy: 0.9033 - lr: 5.0000e-05\n",
            "Epoch 44/50\n",
            "898/898 [==============================] - 97s 108ms/step - loss: 0.3402 - accuracy: 0.9697 - val_loss: 1.3096 - val_accuracy: 0.9038 - lr: 5.0000e-05\n",
            "Epoch 45/50\n",
            "898/898 [==============================] - ETA: 0s - loss: 0.3283 - accuracy: 0.9704\n",
            "Epoch 45: ReduceLROnPlateau reducing learning rate to 2.499999936844688e-05.\n",
            "898/898 [==============================] - 98s 110ms/step - loss: 0.3283 - accuracy: 0.9704 - val_loss: 1.3110 - val_accuracy: 0.9047 - lr: 5.0000e-05\n",
            "Epoch 45: early stopping\n"
          ]
        }
      ],
      "source": [
        "\n",
        "lrd = ReduceLROnPlateau(monitor = 'val_loss',patience = PATIENCE,verbose = 1,factor = 0.50, min_lr = 1e-10) \n",
        "mcp = ModelCheckpoint('model.h5')\n",
        "es = EarlyStopping(verbose=1, patience=20)\n",
        "\n",
        "history=model.fit(train_dataset,\n",
        "                  validation_data=test_dataset,\n",
        "                  epochs = EPOCHS,\n",
        "                  verbose =1,\n",
        "                  callbacks = [lrd,mcp,es])"
      ]
    },
    {
      "cell_type": "code",
      "source": [
        "#  Som Scores of train & test set\n",
        "\n",
        "train_evalation = model.evaluate(train_dataset)\n",
        "test_evaluation = model.evaluate(test_dataset)"
      ],
      "metadata": {
        "id": "OcbQJ48g7pIR",
        "colab": {
          "base_uri": "https://localhost:8080/"
        },
        "outputId": "9550bfc7-c75e-45b9-cacc-06a2674a1df0"
      },
      "execution_count": null,
      "outputs": [
        {
          "output_type": "stream",
          "name": "stdout",
          "text": [
            "898/898 [==============================] - 82s 91ms/step - loss: 0.2678 - accuracy: 0.9748\n",
            "225/225 [==============================] - 14s 60ms/step - loss: 1.3110 - accuracy: 0.9047\n"
          ]
        }
      ]
    },
    {
      "cell_type": "code",
      "source": [
        "hs=history.history\n",
        "\n",
        "acc = hs['accuracy']\n",
        "val_acc = hs['val_accuracy']\n",
        "loss =  hs['loss']\n",
        "val_loss = hs['val_loss']\n",
        " \n",
        "plt.style.use('default')\n",
        "\n",
        "fig, (ax1) = plt.subplots(1,1, figsize= (10,5))\n",
        "fig.suptitle(\" MODEL'S METRICS VISUALIZATION \")\n",
        "\n",
        "ax1.plot(range(1, len(acc) + 1), acc)\n",
        "ax1.plot(range(1, len(val_acc) + 1), val_acc)\n",
        "ax1.set_title('History of Accuracy')\n",
        "ax1.set_xlabel('Epochs')\n",
        "ax1.set_ylabel('Accuracy')\n",
        "ax1.legend(['training', 'validation'])\n"
      ],
      "metadata": {
        "id": "NrbONrjZ7n2W",
        "colab": {
          "base_uri": "https://localhost:8080/",
          "height": 410
        },
        "outputId": "f25b169e-04ae-44ea-e7d0-7b6cfeaeb7a9"
      },
      "execution_count": null,
      "outputs": [
        {
          "output_type": "execute_result",
          "data": {
            "text/plain": [
              "<matplotlib.legend.Legend at 0x7f90d6559ca0>"
            ]
          },
          "metadata": {},
          "execution_count": 18
        },
        {
          "output_type": "display_data",
          "data": {
            "text/plain": [
              "<Figure size 1000x500 with 1 Axes>"
            ],
            "image/png": "[encoded data removed]"
          },
          "metadata": {}
        }
      ]
    },
    {
      "cell_type": "code",
      "source": [
        "model_json = model.to_json()\n",
        "with open(\"model.json\", \"w\") as json_file:\n",
        "    json_file.write(model_json)\n",
        "model.save_weights(\"model.h5\")\n",
        "print(\"Saved model to disk\")"
      ],
      "metadata": {
        "id": "9VXf8YJO7r1D",
        "colab": {
          "base_uri": "https://localhost:8080/"
        },
        "outputId": "49e7294a-5078-44cc-c05d-3b3c5c80d7ec"
      },
      "execution_count": null,
      "outputs": [
        {
          "output_type": "stream",
          "name": "stdout",
          "text": [
            "Saved model to disk\n"
          ]
        }
      ]
    },
    {
      "cell_type": "code",
      "source": [
        "from tensorflow.keras.preprocessing import image\n",
        "\n",
        "from tensorflow.keras.preprocessing.image import ImageDataGenerator, load_img\n",
        "\n",
        "plt.style.use('grayscale')\n",
        "plt.grid(visible=None)\n",
        "img_path='/content/drive/MyDrive/face_emotions/test/happy/PrivateTest_10513598.jpg'\n",
        "test_image=image.load_img(img_path,target_size= (IMAGE_SIZE),color_mode='grayscale')\n",
        "test_image=image.img_to_array(test_image)\n",
        "print(test_image.shape)\n"
      ],
      "metadata": {
        "id": "U8LjzrHg7tf6",
        "colab": {
          "base_uri": "https://localhost:8080/",
          "height": 452
        },
        "outputId": "bf94b15c-07bb-4647-e662-3fe552204d80"
      },
      "execution_count": null,
      "outputs": [
        {
          "output_type": "stream",
          "name": "stdout",
          "text": [
            "(48, 48, 1)\n"
          ]
        },
        {
          "output_type": "display_data",
          "data": {
            "text/plain": [
              "<Figure size 640x480 with 1 Axes>"
            ],
            "image/png": "[encoded data removed]"
          },
          "metadata": {}
        }
      ]
    },
    {
      "cell_type": "code",
      "source": [
        "img=image.load_img(img_path,target_size=IMAGE_SIZE)\n",
        "img = np.expand_dims(img, axis=0)\n",
        "print(img.shape)"
      ],
      "metadata": {
        "id": "bV_PYDv77woO",
        "colab": {
          "base_uri": "https://localhost:8080/"
        },
        "outputId": "52eb9701-ef8f-4d8d-cb3f-a9497f9bb79c"
      },
      "execution_count": null,
      "outputs": [
        {
          "output_type": "stream",
          "name": "stdout",
          "text": [
            "(1, 48, 48, 3)\n"
          ]
        }
      ]
    },
    {
      "cell_type": "code",
      "source": [
        "result=model.predict(img)\n",
        "print(result[0])\n",
        "y_pred=np.argmax(result[0])\n",
        "print('The person facial emotion is:',classes[y_pred])"
      ],
      "metadata": {
        "id": "gAbyGQfH7x03",
        "colab": {
          "base_uri": "https://localhost:8080/"
        },
        "outputId": "d5e985fa-6ac7-4720-843f-0cc8451b2851"
      },
      "execution_count": null,
      "outputs": [
        {
          "output_type": "stream",
          "name": "stdout",
          "text": [
            "1/1 [==============================] - 0s 16ms/step\n",
            "[0.0000000e+00 0.0000000e+00 1.0000000e+00 4.7630534e-25 0.0000000e+00\n",
            " 0.0000000e+00 0.0000000e+00]\n",
            "The person facial emotion is: Fear\n"
          ]
        }
      ]
    },
    {
      "cell_type": "code",
      "source": [
        "from google.colab import files\n",
        "\n",
        "\n",
        "files.download('model.h5')"
      ],
      "metadata": {
        "colab": {
          "base_uri": "https://localhost:8080/",
          "height": 17
        },
        "id": "wEsJ7FumiMRC",
        "outputId": "2d16920b-7175-4d00-b3e3-1b6ffac0836b"
      },
      "execution_count": null,
      "outputs": [
        {
          "output_type": "display_data",
          "data": {
            "text/plain": [
              "<IPython.core.display.Javascript object>"
            ],
            "application/javascript": [
              "\n",
              "    async function download(id, filename, size) {\n",
              "      if (!google.colab.kernel.accessAllowed) {\n",
              "        return;\n",
              "      }\n",
              "      const div = document.createElement('div');\n",
              "      const label = document.createElement('label');\n",
              "      label.textContent = `Downloading \"${filename}\": `;\n",
              "      div.appendChild(label);\n",
              "      const progress = document.createElement('progress');\n",
              "      progress.max = size;\n",
              "      div.appendChild(progress);\n",
              "      document.body.appendChild(div);\n",
              "\n",
              "      const buffers = [];\n",
              "      let downloaded = 0;\n",
              "\n",
              "      const channel = await google.colab.kernel.comms.open(id);\n",
              "      // Send a message to notify the kernel that we're ready.\n",
              "      channel.send({})\n",
              "\n",
              "      for await (const message of channel.messages) {\n",
              "        // Send a message to notify the kernel that we're ready.\n",
              "        channel.send({})\n",
              "        if (message.buffers) {\n",
              "          for (const buffer of message.buffers) {\n",
              "            buffers.push(buffer);\n",
              "            downloaded += buffer.byteLength;\n",
              "            progress.value = downloaded;\n",
              "          }\n",
              "        }\n",
              "      }\n",
              "      const blob = new Blob(buffers, {type: 'application/binary'});\n",
              "      const a = document.createElement('a');\n",
              "      a.href = window.URL.createObjectURL(blob);\n",
              "      a.download = filename;\n",
              "      div.appendChild(a);\n",
              "      a.click();\n",
              "      div.remove();\n",
              "    }\n",
              "  "
            ]
          },
          "metadata": {}
        },
        {
          "output_type": "display_data",
          "data": {
            "text/plain": [
              "<IPython.core.display.Javascript object>"
            ],
            "application/javascript": [
              "download(\"download_4d2ce496-a83e-4766-8f8b-55988b45413f\", \"model.h5\", 59587912)"
            ]
          },
          "metadata": {}
        }
      ]
    },
    {
      "cell_type": "code",
      "source": [],
      "metadata": {
        "id": "ahy9ZC1ZiRFd"
      },
      "execution_count": null,
      "outputs": []
    }
  ],
  "metadata": {
    "accelerator": "GPU",
    "colab": {
      "provenance": [],
      "include_colab_link": true
    },
    "gpuClass": "standard",
    "kernelspec": {
      "display_name": "Python 3",
      "name": "python3"
    },
    "language_info": {
      "name": "python"
    }
  },
  "nbformat": 4,
  "nbformat_minor": 0
}