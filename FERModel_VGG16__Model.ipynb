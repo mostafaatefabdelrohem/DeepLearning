{
  "cells": [
    {
      "cell_type": "markdown",
      "metadata": {
        "id": "view-in-github",
        "colab_type": "text"
      },
      "source": [
        "<a href=\"https://colab.research.google.com/github/mostafaatefabdelrohem/DeepLearning/blob/main/FERModel_VGG16__Model.ipynb\" target=\"_parent\"><img src=\"https://colab.research.google.com/assets/colab-badge.svg\" alt=\"Open In Colab\"/></a>"
      ]
    },
    {
      "cell_type": "code",
      "execution_count": 1,
      "metadata": {
        "id": "lBVjx6MjXl7O"
      },
      "outputs": [],
      "source": [
        "import os\n",
        "import keras\n",
        "import numpy as np\n",
        "import pandas as pd\n",
        "import matplotlib.pyplot as plt\n",
        "import tensorflow as tf\n",
        "from keras.preprocessing import image\n",
        "from keras_preprocessing.image import ImageDataGenerator,load_img\n",
        "from keras.models import Model, Sequential\n",
        "from keras.applications import VGG19\n",
        "from keras.layers import Dense, Flatten, Dropout,BatchNormalization ,Activation, GlobalAveragePooling2D\n",
        "from keras.layers import GaussianNoise\n",
        "from keras.optimizers import Adam\n",
        "from keras.callbacks import ReduceLROnPlateau,ModelCheckpoint,EarlyStopping\n",
        "from IPython.display import Image, HTML\n",
        "from keras.utils import plot_model"
      ]
    },
    {
      "cell_type": "code",
      "execution_count": 2,
      "metadata": {
        "colab": {
          "base_uri": "https://localhost:8080/"
        },
        "id": "P-QHviU9XmkG",
        "outputId": "1d684a86-dfbd-46f2-83a8-1a7e0d57a83d"
      },
      "outputs": [
        {
          "output_type": "stream",
          "name": "stdout",
          "text": [
            "Mounted at /content/drive\n"
          ]
        }
      ],
      "source": [
        "from google.colab import drive\n",
        "drive.mount('/content/drive')"
      ]
    },
    {
      "cell_type": "code",
      "execution_count": 3,
      "metadata": {
        "id": "e-GRONTxX17w"
      },
      "outputs": [],
      "source": [
        "# declare path\n",
        "train_dir = '/content/drive/MyDrive/face_emotions/train/'\n",
        "test_dir = '/content/drive/MyDrive/face_emotions/test/'\n",
        "\n",
        "# Image size\n",
        "\n",
        "IMAGE_SIZE = (48,48)\n",
        "IMAGE_SHAPE = IMAGE_SIZE + (3,)\n",
        "\n",
        "batch_size = 32\n",
        "EPOCHS = 50\n",
        "ADAM_LEARNING_RATE = 0.0001\n",
        "PATIENCE =10\n",
        "classes=['Angry','Disgust','Fear','Happy','Neutral','Sad','Surprise']\n"
      ]
    },
    {
      "cell_type": "code",
      "execution_count": 4,
      "metadata": {
        "id": "sqb6JkkxX6a3"
      },
      "outputs": [],
      "source": [
        "# Data augmentation\n",
        "\n",
        "train_datagen = ImageDataGenerator(rescale = 1./255,\n",
        "                                   featurewise_center=False,\n",
        "                                   featurewise_std_normalization=False,\n",
        "                                   rotation_range=10,\n",
        "                                   width_shift_range=0.1,\n",
        "                                   height_shift_range=0.1,\n",
        "                                   zoom_range=0.1,\n",
        "                                   horizontal_flip=True)\n",
        "\n",
        "test_datagen  = ImageDataGenerator(rescale = 1./255)"
      ]
    },
    {
      "cell_type": "code",
      "execution_count": null,
      "metadata": {
        "id": "_2poyOU0X8YX"
      },
      "outputs": [],
      "source": [
        "# Load datasat\n",
        "\n",
        "train_dataset  = train_datagen.flow_from_directory(directory = train_dir,\n",
        "                                                   target_size = IMAGE_SIZE,\n",
        "                                                   class_mode = 'categorical',\n",
        "                                                   batch_size = batch_size)\n",
        "\n",
        "test_dataset = test_datagen.flow_from_directory(directory = test_dir,\n",
        "                                                  target_size = IMAGE_SIZE,\n",
        "                                                  class_mode = 'categorical',\n",
        "                                                  shuffle =True,\n",
        "                                                  batch_size = batch_size)"
      ]
    },
    {
      "cell_type": "code",
      "execution_count": null,
      "metadata": {
        "id": "dluAHRarX9lH"
      },
      "outputs": [],
      "source": [
        "# Total train/test sample\n",
        "\n",
        "def count_exp(path, set_):\n",
        "    dict_ = {}\n",
        "    for expression in os.listdir(path):\n",
        "        dir_ = path + expression\n",
        "        dict_[expression] = len(os.listdir(dir_))\n",
        "    df = pd.DataFrame(dict_, index=[set_])\n",
        "    return df\n",
        "train_count = count_exp(train_dir, 'train')\n",
        "test_count = count_exp(test_dir, 'test')\n",
        "\n",
        "HTML(train_count.append(test_count).to_html(escape=False))\n"
      ]
    },
    {
      "cell_type": "code",
      "execution_count": null,
      "metadata": {
        "id": "Ek6-kLsjX_ht"
      },
      "outputs": [],
      "source": [
        "# Data labels\n",
        "\n",
        "class_labels = test_dataset.class_indices\n",
        "class_labels"
      ]
    },
    {
      "cell_type": "code",
      "execution_count": null,
      "metadata": {
        "id": "IWKpv7uIYCjr"
      },
      "outputs": [],
      "source": [
        "# See the shape of any data\n",
        "\n",
        "train_sample=next(train_dataset)\n",
        "print(train_sample[0].shape)"
      ]
    },
    {
      "cell_type": "code",
      "execution_count": null,
      "metadata": {
        "id": "x2BwO44aYRbt"
      },
      "outputs": [],
      "source": [
        "# # lot distribution of train/test dataste per class\n",
        "\n",
        "x = list(test_count.columns)\n",
        "y1 =train_count.iloc[0].to_list()\n",
        "y2 = test_count.iloc[0].to_list()\n",
        "plt.figure(figsize=(12,7))\n",
        "\n",
        "plt.bar(x, y1, color='grey')\n",
        "plt.bar(x, y2, bottom=y1, color='black')\n",
        "plt.xlabel(\"Emotions\")\n",
        "plt.ylabel(\"Train & Test data\")\n",
        "plt.legend([\"Train\", \"Test\"], loc='upper left')\n",
        "plt.title(\"Data\")\n",
        "plt.savefig('distribution.png')\n",
        "plt.show()"
      ]
    },
    {
      "cell_type": "code",
      "execution_count": null,
      "metadata": {
        "id": "3tQiTkplYSv-"
      },
      "outputs": [],
      "source": [
        "# Plot image of each class\n",
        "\n",
        "plt.figure(figsize=(14,22))\n",
        "i = 1\n",
        "for expression in os.listdir(train_dir):\n",
        "    img = load_img((train_dir + expression +'/'+ os.listdir(train_dir + expression)[1]))\n",
        "    plt.subplot(1,7,i)\n",
        "    plt.imshow(img)\n",
        "    plt.title(expression)\n",
        "    plt.axis('off')\n",
        "    i += 1\n",
        "plt.show()"
      ]
    },
    {
      "cell_type": "code",
      "execution_count": null,
      "metadata": {
        "id": "XzjoPQ5WYVIY"
      },
      "outputs": [],
      "source": [
        "# VGG16\n",
        "\n",
        "base_model = tf.keras.applications.VGG19(input_shape= IMAGE_SHAPE,include_top=False,weights=\"imagenet\")\n",
        "base_model.summary()"
      ]
    },
    {
      "cell_type": "code",
      "execution_count": null,
      "metadata": {
        "id": "XbHuhkHUYuN8"
      },
      "outputs": [],
      "source": [
        "for layer in base_model.layers[:12]:\n",
        "    layer.trainable=False"
      ]
    },
    {
      "cell_type": "code",
      "execution_count": null,
      "metadata": {
        "id": "yZ7nie-rYwBF"
      },
      "outputs": [],
      "source": [
        "# Build transfer learning Model\n",
        "\n",
        "model=Sequential()\n",
        "model.add(base_model)\n",
        "model.add(BatchNormalization())\n",
        "model.add(GaussianNoise(0.01))\n",
        "model.add(GlobalAveragePooling2D())\n",
        "\n",
        "model.add(Flatten())\n",
        "model.add(Dense(256, activation='relu'))\n",
        "model.add(BatchNormalization())\n",
        "model.add(Dropout(0.5))\n",
        "\n",
        "model.add(Dense(128, activation='relu'))\n",
        "model.add(BatchNormalization())\n",
        "model.add(Dropout(0.5))\n",
        "\n",
        "model.add(Dense(7, activation=\"softmax\"))\n",
        "\n",
        "model.summary()"
      ]
    },
    {
      "cell_type": "code",
      "execution_count": null,
      "metadata": {
        "id": "xI_6HKvQYxPx"
      },
      "outputs": [],
      "source": [
        "# Model trainable\n",
        "\n",
        "print(\"Model trainable\",len(model.trainable_variables))"
      ]
    },
    {
      "cell_type": "code",
      "execution_count": null,
      "metadata": {
        "id": "uYSV_NHmYz5Q"
      },
      "outputs": [],
      "source": [
        "# Compile model\n",
        "\n",
        "\n",
        "\n",
        "METRICS = [\n",
        "      tf.keras.metrics.BinaryAccuracy(name='accuracy')\n",
        "    \n",
        "]\n",
        "\n",
        "adam = tf.keras.optimizers.Adam(learning_rate=ADAM_LEARNING_RATE, beta_1=0.9, beta_2=0.999, epsilon=1e-08, decay=0.0)\n",
        "\n",
        "model.compile(optimizer=adam, loss='categorical_crossentropy',metrics=METRICS)"
      ]
    },
    {
      "cell_type": "code",
      "execution_count": null,
      "metadata": {
        "id": "ApVf_EqfY05K"
      },
      "outputs": [],
      "source": [
        "\n",
        "lrd = ReduceLROnPlateau(monitor = 'val_loss',patience = PATIENCE,verbose = 1,factor = 0.50, min_lr = 1e-10) \n",
        "mcp = ModelCheckpoint('model.h5')\n",
        "es = EarlyStopping(verbose=1, patience=20)\n",
        "\n",
        "history=model.fit(train_dataset,\n",
        "                  validation_data=test_dataset,\n",
        "                  epochs = EPOCHS,\n",
        "                  verbose =1,\n",
        "                  callbacks = [lrd,mcp,es])"
      ]
    },
    {
      "cell_type": "code",
      "source": [
        "#  Som Scores of train & test set\n",
        "\n",
        "train_evalation = model.evaluate(train_dataset)\n",
        "test_evaluation = model.evaluate(test_dataset)"
      ],
      "metadata": {
        "id": "OcbQJ48g7pIR"
      },
      "execution_count": null,
      "outputs": []
    },
    {
      "cell_type": "code",
      "source": [
        "hs=history.history\n",
        "\n",
        "acc = hs['accuracy']\n",
        "val_acc = hs['val_accuracy']\n",
        "loss =  hs['loss']\n",
        "val_loss = hs['val_loss']\n",
        " \n",
        "plt.style.use('default')\n",
        "\n",
        "fig, (ax1) = plt.subplots(1,1, figsize= (10,5))\n",
        "fig.suptitle(\" MODEL'S METRICS VISUALIZATION \")\n",
        "\n",
        "ax1.plot(range(1, len(acc) + 1), acc)\n",
        "ax1.plot(range(1, len(val_acc) + 1), val_acc)\n",
        "ax1.set_title('History of Accuracy')\n",
        "ax1.set_xlabel('Epochs')\n",
        "ax1.set_ylabel('Accuracy')\n",
        "ax1.legend(['training', 'validation'])\n"
      ],
      "metadata": {
        "id": "NrbONrjZ7n2W",
        "colab": {
          "base_uri": "https://localhost:8080/",
          "height": 410
        },
        "outputId": "f25b169e-04ae-44ea-e7d0-7b6cfeaeb7a9"
      },
      "execution_count": null,
      "outputs": [
        {
          "output_type": "execute_result",
          "data": {
            "text/plain": [
              "<matplotlib.legend.Legend at 0x7f90d6559ca0>"
            ]
          },
          "metadata": {},
          "execution_count": 18
        },
        {
          "output_type": "display_data",
          "data": {
            "text/plain": [
              "<Figure size 1000x500 with 1 Axes>"
            ],
            "image/png": "[encoded data removed]"
          },
          "metadata": {}
        }
      ]
    },
    {
      "cell_type": "code",
      "source": [
        "model_json = model.to_json()\n",
        "with open(\"model.json\", \"w\") as json_file:\n",
        "    json_file.write(model_json)\n",
        "model.save_weights(\"model.h5\")\n",
        "print(\"Saved model to disk\")"
      ],
      "metadata": {
        "id": "9VXf8YJO7r1D",
        "colab": {
          "base_uri": "https://localhost:8080/"
        },
        "outputId": "49e7294a-5078-44cc-c05d-3b3c5c80d7ec"
      },
      "execution_count": null,
      "outputs": [
        {
          "output_type": "stream",
          "name": "stdout",
          "text": [
            "Saved model to disk\n"
          ]
        }
      ]
    },
    {
      "cell_type": "code",
      "source": [
        "from tensorflow.keras.preprocessing import image\n",
        "\n",
        "from tensorflow.keras.preprocessing.image import ImageDataGenerator, load_img\n",
        "\n",
        "plt.style.use('grayscale')\n",
        "plt.grid(visible=None)\n",
        "img_path='/content/drive/MyDrive/face_emotions/test/fear/PrivateTest_10513598.jpg'\n",
        "test_image=image.load_img(img_path,target_size= (IMAGE_SIZE),color_mode='grayscale')\n",
        "test_image=image.img_to_array(test_image)\n",
        "print(test_image.shape)\n"
      ],
      "metadata": {
        "id": "U8LjzrHg7tf6",
        "colab": {
          "base_uri": "https://localhost:8080/",
          "height": 452
        },
        "outputId": "bf94b15c-07bb-4647-e662-3fe552204d80"
      },
      "execution_count": null,
      "outputs": [
        {
          "output_type": "stream",
          "name": "stdout",
          "text": [
            "(48, 48, 1)\n"
          ]
        },
        {
          "output_type": "display_data",
          "data": {
            "text/plain": [
              "<Figure size 640x480 with 1 Axes>"
            ],
            "image/png": "[encoded data removed]"
          },
          "metadata": {}
        }
      ]
    },
    {
      "cell_type": "code",
      "source": [
        "img=image.load_img(img_path,target_size=IMAGE_SIZE)\n",
        "img = np.expand_dims(img, axis=0)\n",
        "print(img.shape)"
      ],
      "metadata": {
        "id": "bV_PYDv77woO",
        "colab": {
          "base_uri": "https://localhost:8080/"
        },
        "outputId": "52eb9701-ef8f-4d8d-cb3f-a9497f9bb79c"
      },
      "execution_count": null,
      "outputs": [
        {
          "output_type": "stream",
          "name": "stdout",
          "text": [
            "(1, 48, 48, 3)\n"
          ]
        }
      ]
    },
    {
      "cell_type": "code",
      "source": [
        "result=model.predict(img)\n",
        "print(result[0])\n",
        "y_pred=np.argmax(result[0])\n",
        "print('The person facial emotion is:',classes[y_pred])"
      ],
      "metadata": {
        "id": "gAbyGQfH7x03",
        "colab": {
          "base_uri": "https://localhost:8080/"
        },
        "outputId": "d5e985fa-6ac7-4720-843f-0cc8451b2851"
      },
      "execution_count": null,
      "outputs": [
        {
          "output_type": "stream",
          "name": "stdout",
          "text": [
            "1/1 [==============================] - 0s 16ms/step\n",
            "[0.0000000e+00 0.0000000e+00 1.0000000e+00 4.7630534e-25 0.0000000e+00\n",
            " 0.0000000e+00 0.0000000e+00]\n",
            "The person facial emotion is: Fear\n"
          ]
        }
      ]
    },
    {
      "cell_type": "code",
      "source": [
        "from google.colab import files\n",
        "\n",
        "\n",
        "files.download('model.h5')"
      ],
      "metadata": {
        "colab": {
          "base_uri": "https://localhost:8080/",
          "height": 17
        },
        "id": "wEsJ7FumiMRC",
        "outputId": "2d16920b-7175-4d00-b3e3-1b6ffac0836b"
      },
      "execution_count": null,
      "outputs": [
        {
          "output_type": "display_data",
          "data": {
            "text/plain": [
              "<IPython.core.display.Javascript object>"
            ],
            "application/javascript": [
              "\n",
              "    async function download(id, filename, size) {\n",
              "      if (!google.colab.kernel.accessAllowed) {\n",
              "        return;\n",
              "      }\n",
              "      const div = document.createElement('div');\n",
              "      const label = document.createElement('label');\n",
              "      label.textContent = `Downloading \"${filename}\": `;\n",
              "      div.appendChild(label);\n",
              "      const progress = document.createElement('progress');\n",
              "      progress.max = size;\n",
              "      div.appendChild(progress);\n",
              "      document.body.appendChild(div);\n",
              "\n",
              "      const buffers = [];\n",
              "      let downloaded = 0;\n",
              "\n",
              "      const channel = await google.colab.kernel.comms.open(id);\n",
              "      // Send a message to notify the kernel that we're ready.\n",
              "      channel.send({})\n",
              "\n",
              "      for await (const message of channel.messages) {\n",
              "        // Send a message to notify the kernel that we're ready.\n",
              "        channel.send({})\n",
              "        if (message.buffers) {\n",
              "          for (const buffer of message.buffers) {\n",
              "            buffers.push(buffer);\n",
              "            downloaded += buffer.byteLength;\n",
              "            progress.value = downloaded;\n",
              "          }\n",
              "        }\n",
              "      }\n",
              "      const blob = new Blob(buffers, {type: 'application/binary'});\n",
              "      const a = document.createElement('a');\n",
              "      a.href = window.URL.createObjectURL(blob);\n",
              "      a.download = filename;\n",
              "      div.appendChild(a);\n",
              "      a.click();\n",
              "      div.remove();\n",
              "    }\n",
              "  "
            ]
          },
          "metadata": {}
        },
        {
          "output_type": "display_data",
          "data": {
            "text/plain": [
              "<IPython.core.display.Javascript object>"
            ],
            "application/javascript": [
              "download(\"download_4d2ce496-a83e-4766-8f8b-55988b45413f\", \"model.h5\", 59587912)"
            ]
          },
          "metadata": {}
        }
      ]
    },
    {
      "cell_type": "code",
      "source": [],
      "metadata": {
        "id": "ahy9ZC1ZiRFd"
      },
      "execution_count": null,
      "outputs": []
    }
  ],
  "metadata": {
    "accelerator": "GPU",
    "colab": {
      "provenance": [],
      "include_colab_link": true
    },
    "gpuClass": "standard",
    "kernelspec": {
      "display_name": "Python 3",
      "name": "python3"
    },
    "language_info": {
      "name": "python"
    }
  },
  "nbformat": 4,
  "nbformat_minor": 0
}